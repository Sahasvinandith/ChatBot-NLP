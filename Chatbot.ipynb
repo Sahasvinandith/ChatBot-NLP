{
 "cells": [
  {
   "cell_type": "markdown",
   "id": "4e24406d-f6dc-4e49-b296-da0dd255f79d",
   "metadata": {},
   "source": [
    "# Chatbot for supermarktet\n",
    "- Required data.json file that contains data about prices and consumables"
   ]
  },
  {
   "cell_type": "markdown",
   "id": "b03225d5-3cc4-4005-a765-e0328f5ed98a",
   "metadata": {},
   "source": [
    "1) Importing necessary packages"
   ]
  },
  {
   "cell_type": "code",
   "execution_count": null,
   "id": "42d7d1e5-0b44-4224-8b29-86d3c0abcc8d",
   "metadata": {},
   "outputs": [],
   "source": [
    "import nltk\n",
    "import json\n",
    "from  nltk.stem import WordNetLemmatizer\n",
    "from rapidfuzz import process"
   ]
  },
  {
   "cell_type": "markdown",
   "id": "70b2c376-f7fb-4f8a-9c57-9e81adb36a82",
   "metadata": {},
   "source": [
    "2) Initializer lemmatizer\n",
    "   - Lemmatizer reduce word into base form\n"
   ]
  },
  {
   "cell_type": "code",
   "execution_count": null,
   "id": "4b491c8e-ac1b-4af6-87c2-fff878605ae3",
   "metadata": {},
   "outputs": [],
   "source": [
    "lemmatizer=WordNetLemmatizer()\n"
   ]
  },
  {
   "cell_type": "markdown",
   "id": "49b4dfa6-69a8-4dd5-bcc3-c2bbefaad807",
   "metadata": {},
   "source": [
    "3) Open data file"
   ]
  },
  {
   "cell_type": "code",
   "execution_count": 8,
   "id": "4391304d-dc1a-4bf4-a5ab-b35780d958d8",
   "metadata": {},
   "outputs": [],
   "source": [
    "try:\n",
    "    data = json.loads(open('data.json').read())\n",
    "except FileNotFoundError:\n",
    "    print(\"File not found\")\n",
    "\n",
    "except Exception:\n",
    "    print(\"Problem with program\")\n",
    "    \n"
   ]
  },
  {
   "cell_type": "code",
   "execution_count": null,
   "id": "7a553e8f-7e2c-4152-8106-169dfd117f59",
   "metadata": {},
   "outputs": [],
   "source": [
    "ignore_letters = ['?', '!', '.', ',']"
   ]
  },
  {
   "cell_type": "markdown",
   "id": "145132af-cccb-4e57-b89e-fbff968f7cc7",
   "metadata": {},
   "source": [
    "4- Store data retrieved from the file"
   ]
  },
  {
   "cell_type": "code",
   "execution_count": 34,
   "id": "735d0700-49bc-4acd-86c7-1911c1901025",
   "metadata": {},
   "outputs": [],
   "source": [
    "goods_shelves = data[\"goods_shelves\"]\n",
    "goods_prize = data[\"goods_prize\"]"
   ]
  },
  {
   "cell_type": "markdown",
   "id": "089e4900-7bdc-4a12-a1c3-3ef5f4cc4fdb",
   "metadata": {},
   "source": [
    "# Word dictionaries"
   ]
  },
  {
   "cell_type": "code",
   "execution_count": 46,
   "id": "4c39de03-3d3b-4388-b983-13357a5718bb",
   "metadata": {},
   "outputs": [],
   "source": [
    "greet=[\"hey\",\"hello\",\"hii\",\"oii\"]\n",
    "word_dictionary=[\"\"]"
   ]
  },
  {
   "cell_type": "markdown",
   "id": "cb625f00-33a4-49d1-b7a1-eb5230fcc778",
   "metadata": {},
   "source": [
    "## Convert dictionary into words"
   ]
  },
  {
   "cell_type": "code",
   "execution_count": 55,
   "id": "579ba171-60b0-44dc-90cc-6b44ead5e126",
   "metadata": {},
   "outputs": [],
   "source": [
    "def Convert_dictionary(word_dict):##for a dictionary with value type {\"item\":prize}\n",
    "    word_list=[]\n",
    "    for key,value in word_dict.items():\n",
    "        word_list.append(key)\n",
    "    return word_list\n",
    "                "
   ]
  },
  {
   "cell_type": "markdown",
   "id": "0eb66ffc-38ce-4a9a-ac0d-95340aea8f09",
   "metadata": {},
   "source": [
    "## Calling extract keys function"
   ]
  },
  {
   "cell_type": "code",
   "execution_count": 57,
   "id": "cef42601-07e4-4740-9c95-bb96779b722c",
   "metadata": {},
   "outputs": [],
   "source": [
    "word_dictionary=Convert_dictionary(goods_shelves)+['prize','price']\n"
   ]
  },
  {
   "cell_type": "code",
   "execution_count": 59,
   "id": "c50fa0f1-915e-46d4-8a04-893126345b26",
   "metadata": {},
   "outputs": [
    {
     "name": "stdout",
     "output_type": "stream",
     "text": [
      "['milk', 'bread', 'egg', 'cheese', 'apple', 'banana', 'prize', 'price']\n"
     ]
    }
   ],
   "source": [
    "print(word_dictionary)"
   ]
  },
  {
   "cell_type": "markdown",
   "id": "b553fced-4892-4ea7-ab00-6a5cb20d1dde",
   "metadata": {},
   "source": [
    "### function to get shelf number based on data"
   ]
  },
  {
   "cell_type": "code",
   "execution_count": null,
   "id": "47a4208d-a833-4369-bc04-890c3fa7ca7d",
   "metadata": {},
   "outputs": [],
   "source": [
    "def get_shelf_number(good):\n",
    "    return goods_shelves.get(good, \"Unknown\")\n",
    "    "
   ]
  },
  {
   "cell_type": "markdown",
   "id": "ca1411a6-e73f-4ccc-87ce-03a53f31fd87",
   "metadata": {},
   "source": [
    "### function to get price and output a string based on the good"
   ]
  },
  {
   "cell_type": "code",
   "execution_count": null,
   "id": "4fe16ad0-d19a-4e42-b640-4d82fd9c69a1",
   "metadata": {},
   "outputs": [],
   "source": [
    "def get_prices(good):\n",
    "    line ='\\nprice of '+good+\"\\n\"\n",
    "    unit = ''\n",
    "    prices=goods_prize.get(good)\n",
    "    for item in prices:\n",
    "        if item ==\"size\":\n",
    "            unit=goods_prize[good][\"size\"]\n",
    "        else:\n",
    "            line += item+\" for Rs.\"+str(goods_prize[good][item])+f\" per {unit}\\n\"\n",
    "\n",
    "    # print(\"Final line: \",line)\n",
    "    return  line"
   ]
  },
  {
   "cell_type": "markdown",
   "id": "dfa14588-3397-49bd-829f-76b77bf48ed5",
   "metadata": {},
   "source": [
    "### Input command processing"
   ]
  },
  {
   "cell_type": "code",
   "execution_count": null,
   "id": "04a40705-85ed-4c21-ac0a-7b2984aadafb",
   "metadata": {},
   "outputs": [],
   "source": [
    "def parse_input(user_input):\n",
    "\n",
    "    tokens = nltk.word_tokenize(user_input.lower())\n",
    "\n",
    "    words = [lemmatizer.lemmatize(token) for token in tokens]\n",
    "\n",
    "    items =[]\n",
    "    done=False\n",
    "    final_output=\"\"\n",
    "\n",
    "    if (\"do\" in words  and \"have\" in words):\n",
    "        final_output+=\"Yes,\\n\"\n",
    "\n",
    "    for word in words:\n",
    "        if(word in [\"exit\", \"quit\", \"bye\"]):\n",
    "            final_output=\"Goodbye!!\"\n",
    "            return final_output\n",
    "\n",
    "\n",
    "    if ((\"view\" in words or \"show\" in words) and \"list\"  in words) or ((\"view\" in words or \"show\" in words) and \"item\" in words):\n",
    "        final_output=\"\\nAvailable products:\\n\"\n",
    "        for item in goods_shelves:\n",
    "            final_output+= item +\" in shelf \"+str(goods_shelves[item])+\"\\n\\n\"\n",
    "\n",
    "\n",
    "    if \"price\" in words and \"list\"  in words or \"price\" in words and \"item\"  in words:\n",
    "        final_output=\"\\nAvailable products:\\n\"\n",
    "        for item in goods_shelves:\n",
    "            final_output+= \"\\n\"+item +\" in shelf \"+str(goods_shelves[item])+\"\\n\"+get_prices(item)\n",
    "\n",
    "\n",
    "\n",
    "\n",
    "    for word in words:\n",
    "        if word in goods_shelves:\n",
    "            items.append(word)\n",
    "\n",
    "\n",
    "    for word in words:\n",
    "        if word in greet:\n",
    "            done=True\n",
    "            if(len(items)==0):\n",
    "                final_output+=\"Hello! how are you? i'm your firendly neighbourhood chatbot. We have best products for lowest price for you. Ask for any problem and happy shopping!!!\"\n",
    "    if done:\n",
    "        return final_output\n",
    "\n",
    "    if (len(items)!=0):\n",
    "        for word in words:\n",
    "            if (word == \"price\" or word == \"prize\" or word == \"prices\"):\n",
    "                for item in items:\n",
    "                    final_output += get_prices(item)\n",
    "\n",
    "        location_output = \"\\nThese are the locations for your products\\n\"\n",
    "        for item in items:\n",
    "            location_output += item + \" is in shelf \" + str(get_shelf_number(item)) + \"\\n\"\n",
    "\n",
    "        final_output += location_output;\n",
    "\n",
    "        return final_output\n",
    "\n",
    "    else:\n",
    "        if (final_output==\"\" or final_output==\"Yes,\\n\"):\n",
    "            return None\n",
    "        else:\n",
    "            return final_output"
   ]
  },
  {
   "cell_type": "markdown",
   "id": "a48755f2-7cf6-4086-a392-5414b3f75426",
   "metadata": {},
   "source": [
    "## Chatbot code"
   ]
  },
  {
   "cell_type": "code",
   "execution_count": null,
   "id": "7f61e20a-047f-42f0-bfed-b39345ec52a5",
   "metadata": {},
   "outputs": [],
   "source": [
    "def chatbot():\n",
    "    print(\"Welcome to the Supermarket Chatbot!\")\n",
    "    print(\"You can ask me about the location of goods. For example, 'Where can I find eggs?'\")\n",
    "\n",
    "    none_times=0\n",
    "\n",
    "    while True:\n",
    "        user_input = input(\"\\nYou: \")\n",
    "\n",
    "\n",
    "\n",
    "        item = parse_input(user_input)\n",
    "        if(item!=None):\n",
    "            print(\"chatbot:\\n\", item)\n",
    "            none_times = 0\n",
    "            if(item==\"Goodbye!!\"):\n",
    "                break\n",
    "\n",
    "\n",
    "\n",
    "        else:\n",
    "            none_times+=1\n",
    "            if(none_times>1):\n",
    "\n",
    "                print(\"Chatbot: Sorry, I still don't understand. Please ask about a item available in the store.you can find available goods by typing \\\"view items\\\".If problem proceed please contact our employee \")\n",
    "            else:\n",
    "                print(\"Chatbot: Sorry, I didn't understand that. Please ask about a specific item.\")\n",
    "\n"
   ]
  },
  {
   "cell_type": "code",
   "execution_count": null,
   "id": "0cb6510d-20ff-44cb-809c-5b7db39a62ef",
   "metadata": {},
   "outputs": [],
   "source": [
    "chatbot()"
   ]
  },
  {
   "cell_type": "code",
   "execution_count": null,
   "id": "7207b561-bec6-4cfe-b2f0-0a40d80898a3",
   "metadata": {},
   "outputs": [],
   "source": []
  }
 ],
 "metadata": {
  "kernelspec": {
   "display_name": "Python 3 (ipykernel)",
   "language": "python",
   "name": "python3"
  },
  "language_info": {
   "codemirror_mode": {
    "name": "ipython",
    "version": 3
   },
   "file_extension": ".py",
   "mimetype": "text/x-python",
   "name": "python",
   "nbconvert_exporter": "python",
   "pygments_lexer": "ipython3",
   "version": "3.12.7"
  }
 },
 "nbformat": 4,
 "nbformat_minor": 5
}
