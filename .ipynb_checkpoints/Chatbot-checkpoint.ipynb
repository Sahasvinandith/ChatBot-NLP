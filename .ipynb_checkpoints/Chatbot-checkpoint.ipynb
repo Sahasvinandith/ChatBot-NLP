{
 "cells": [
  {
   "cell_type": "markdown",
   "id": "4e24406d-f6dc-4e49-b296-da0dd255f79d",
   "metadata": {},
   "source": [
    "# Chatbot for supermarktet\n",
    "- Required data.json file that contains data about prices and consumables"
   ]
  },
  {
   "cell_type": "markdown",
   "id": "b03225d5-3cc4-4005-a765-e0328f5ed98a",
   "metadata": {},
   "source": [
    "1) Importing necessary packages"
   ]
  },
  {
   "cell_type": "code",
   "execution_count": 87,
   "id": "42d7d1e5-0b44-4224-8b29-86d3c0abcc8d",
   "metadata": {},
   "outputs": [
    {
     "name": "stderr",
     "output_type": "stream",
     "text": [
      "[nltk_data] Downloading package punkt to\n",
      "[nltk_data]     C:\\Users\\MSI\\AppData\\Roaming\\nltk_data...\n",
      "[nltk_data]   Package punkt is already up-to-date!\n",
      "[nltk_data] Downloading package punkt_tab to\n",
      "[nltk_data]     C:\\Users\\MSI\\AppData\\Roaming\\nltk_data...\n",
      "[nltk_data]   Package punkt_tab is already up-to-date!\n"
     ]
    }
   ],
   "source": [
    "import nltk\n",
    "nltk.download(\"punkt\")\n",
    "nltk.download(\"punkt_tab\")\n",
    "import json\n",
    "from  nltk.stem import WordNetLemmatizer"
   ]
  },
  {
   "cell_type": "markdown",
   "id": "70b2c376-f7fb-4f8a-9c57-9e81adb36a82",
   "metadata": {},
   "source": [
    "2) Initializer lemmatizer\n",
    "   - Lemmatizer reduce word into base form\n"
   ]
  },
  {
   "cell_type": "code",
   "execution_count": 89,
   "id": "4b491c8e-ac1b-4af6-87c2-fff878605ae3",
   "metadata": {},
   "outputs": [],
   "source": [
    "lemmatizer=WordNetLemmatizer()\n"
   ]
  },
  {
   "cell_type": "markdown",
   "id": "49b4dfa6-69a8-4dd5-bcc3-c2bbefaad807",
   "metadata": {},
   "source": [
    "3) Open data file"
   ]
  },
  {
   "cell_type": "code",
   "execution_count": 91,
   "id": "4391304d-dc1a-4bf4-a5ab-b35780d958d8",
   "metadata": {},
   "outputs": [],
   "source": [
    "try:\n",
    "    data = json.loads(open('data.json').read())\n",
    "except FileNotFoundError:\n",
    "    print(\"File not found\")\n",
    "\n",
    "except Exception:\n",
    "    print(\"Problem with program\")\n",
    "    \n"
   ]
  },
  {
   "cell_type": "code",
   "execution_count": 92,
   "id": "7a553e8f-7e2c-4152-8106-169dfd117f59",
   "metadata": {},
   "outputs": [],
   "source": [
    "ignore_letters = ['?', '!', '.', ',']"
   ]
  },
  {
   "cell_type": "markdown",
   "id": "145132af-cccb-4e57-b89e-fbff968f7cc7",
   "metadata": {},
   "source": [
    "4- Store data retrieved from the file"
   ]
  },
  {
   "cell_type": "code",
   "execution_count": 94,
   "id": "735d0700-49bc-4acd-86c7-1911c1901025",
   "metadata": {},
   "outputs": [],
   "source": [
    "goods_shelves = data[\"goods_shelves\"]\n",
    "goods_prize = data[\"goods_prize\"]"
   ]
  },
  {
   "cell_type": "code",
   "execution_count": 95,
   "id": "4c39de03-3d3b-4388-b983-13357a5718bb",
   "metadata": {},
   "outputs": [],
   "source": [
    "greet=[\"hey\",\"hello\",\"hii\",\"oii\"]"
   ]
  },
  {
   "cell_type": "markdown",
   "id": "b553fced-4892-4ea7-ab00-6a5cb20d1dde",
   "metadata": {},
   "source": [
    "### function to get shelf number based on data"
   ]
  },
  {
   "cell_type": "code",
   "execution_count": 97,
   "id": "47a4208d-a833-4369-bc04-890c3fa7ca7d",
   "metadata": {},
   "outputs": [],
   "source": [
    "def get_shelf_number(good):\n",
    "    return goods_shelves.get(good, \"Unknown\")\n",
    "    "
   ]
  },
  {
   "cell_type": "markdown",
   "id": "ca1411a6-e73f-4ccc-87ce-03a53f31fd87",
   "metadata": {},
   "source": [
    "### function to get price and output a string based on the good"
   ]
  },
  {
   "cell_type": "code",
   "execution_count": 99,
   "id": "4fe16ad0-d19a-4e42-b640-4d82fd9c69a1",
   "metadata": {},
   "outputs": [],
   "source": [
    "def get_prices(good):\n",
    "    line ='\\nprice of '+good+\"\\n\"\n",
    "    unit = ''\n",
    "    prices=goods_prize.get(good)\n",
    "    for item in prices:\n",
    "        if item ==\"size\":\n",
    "            unit=goods_prize[good][\"size\"]\n",
    "        else:\n",
    "            line += item+\" for Rs.\"+str(goods_prize[good][item])+f\" per {unit}\\n\"\n",
    "\n",
    "    # print(\"Final line: \",line)\n",
    "    return  line"
   ]
  },
  {
   "cell_type": "markdown",
   "id": "dfa14588-3397-49bd-829f-76b77bf48ed5",
   "metadata": {},
   "source": [
    "### Input command processing"
   ]
  },
  {
   "cell_type": "code",
   "execution_count": 101,
   "id": "04a40705-85ed-4c21-ac0a-7b2984aadafb",
   "metadata": {},
   "outputs": [],
   "source": [
    "def parse_input(user_input):\n",
    "\n",
    "    tokens = nltk.word_tokenize(user_input.lower())\n",
    "\n",
    "    words = [lemmatizer.lemmatize(token) for token in tokens]\n",
    "\n",
    "    items =[]\n",
    "    done=False\n",
    "    final_output=\"\"\n",
    "\n",
    "    if (\"do\" in words  and \"have\" in words):\n",
    "        final_output+=\"Yes,\\n\"\n",
    "\n",
    "    for word in words:\n",
    "        if(word in [\"exit\", \"quit\", \"bye\"]):\n",
    "            final_output=\"Goodbye!!\"\n",
    "            return final_output\n",
    "\n",
    "\n",
    "    if ((\"view\" in words or \"show\" in words) and \"list\"  in words) or ((\"view\" in words or \"show\" in words) and \"item\" in words):\n",
    "        final_output=\"\\nAvailable products:\\n\"\n",
    "        for item in goods_shelves:\n",
    "            final_output+= item +\" in shelf \"+str(goods_shelves[item])+\"\\n\\n\"\n",
    "\n",
    "\n",
    "    if \"price\" in words and \"list\"  in words or \"price\" in words and \"item\"  in words:\n",
    "        final_output=\"\\nAvailable products:\\n\"\n",
    "        for item in goods_shelves:\n",
    "            final_output+= \"\\n\"+item +\" in shelf \"+str(goods_shelves[item])+\"\\n\"+get_prices(item)\n",
    "\n",
    "\n",
    "\n",
    "\n",
    "    for word in words:\n",
    "        if word in goods_shelves:\n",
    "            items.append(word)\n",
    "\n",
    "\n",
    "    for word in words:\n",
    "        if word in greet:\n",
    "            done=True\n",
    "            if(len(items)==0):\n",
    "                final_output+=\"Hello! how are you? i'm your firendly neighbourhood chatbot. We have best products for lowest price for you. Ask for any problem and happy shopping!!!\"\n",
    "    if done:\n",
    "        return final_output\n",
    "\n",
    "    if (len(items)!=0):\n",
    "        for word in words:\n",
    "            if (word == \"price\" or word == \"prize\" or word == \"prices\"):\n",
    "                for item in items:\n",
    "                    final_output += get_prices(item)\n",
    "\n",
    "        location_output = \"\\nThese are the locations for your products\\n\"\n",
    "        for item in items:\n",
    "            location_output += item + \" is in shelf \" + str(get_shelf_number(item)) + \"\\n\"\n",
    "\n",
    "        final_output += location_output;\n",
    "\n",
    "        return final_output\n",
    "\n",
    "    else:\n",
    "        if (final_output==\"\" or final_output==\"Yes,\\n\"):\n",
    "            return None\n",
    "        else:\n",
    "            return final_output"
   ]
  },
  {
   "cell_type": "markdown",
   "id": "a48755f2-7cf6-4086-a392-5414b3f75426",
   "metadata": {},
   "source": [
    "## Chatbot code"
   ]
  },
  {
   "cell_type": "code",
   "execution_count": 103,
   "id": "7f61e20a-047f-42f0-bfed-b39345ec52a5",
   "metadata": {},
   "outputs": [],
   "source": [
    "def chatbot():\n",
    "    print(\"Welcome to the Supermarket Chatbot!\")\n",
    "    print(\"You can ask me about the location of goods. For example, 'Where can I find eggs?'\")\n",
    "\n",
    "    none_times=0\n",
    "\n",
    "    while True:\n",
    "        user_input = input(\"\\nYou: \")\n",
    "\n",
    "\n",
    "\n",
    "        item = parse_input(user_input)\n",
    "        if(item!=None):\n",
    "            print(\"chatbot:\\n\", item)\n",
    "            none_times = 0\n",
    "            if(item==\"Goodbye!!\"):\n",
    "                break\n",
    "\n",
    "\n",
    "\n",
    "        else:\n",
    "            none_times+=1\n",
    "            if(none_times>1):\n",
    "\n",
    "                print(\"Chatbot: Sorry, I still don't understand. Please ask about a item available in the store.you can find available goods by typing \\\"view items\\\".If problem proceed please contact our employee \")\n",
    "            else:\n",
    "                print(\"Chatbot: Sorry, I didn't understand that. Please ask about a specific item.\")\n",
    "\n"
   ]
  },
  {
   "cell_type": "code",
   "execution_count": 104,
   "id": "0cb6510d-20ff-44cb-809c-5b7db39a62ef",
   "metadata": {},
   "outputs": [
    {
     "name": "stdout",
     "output_type": "stream",
     "text": [
      "Welcome to the Supermarket Chatbot!\n",
      "You can ask me about the location of goods. For example, 'Where can I find eggs?'\n"
     ]
    },
    {
     "name": "stdin",
     "output_type": "stream",
     "text": [
      "\n",
      "You:  hi\n"
     ]
    },
    {
     "name": "stdout",
     "output_type": "stream",
     "text": [
      "Chatbot: Sorry, I didn't understand that. Please ask about a specific item.\n"
     ]
    },
    {
     "name": "stdin",
     "output_type": "stream",
     "text": [
      "\n",
      "You:  hello who are you\n"
     ]
    },
    {
     "name": "stdout",
     "output_type": "stream",
     "text": [
      "chatbot:\n",
      " Hello! how are you? i'm your firendly neighbourhood chatbot. We have best products for lowest price for you. Ask for any problem and happy shopping!!!\n"
     ]
    },
    {
     "name": "stdin",
     "output_type": "stream",
     "text": [
      "\n",
      "You:  do you have eggs\n"
     ]
    },
    {
     "name": "stdout",
     "output_type": "stream",
     "text": [
      "chatbot:\n",
      " Yes,\n",
      "\n",
      "These are the locations for your products\n",
      "egg is in shelf 3\n",
      "\n"
     ]
    },
    {
     "name": "stdin",
     "output_type": "stream",
     "text": [
      "\n",
      "You:  what is the price of eggs\n"
     ]
    },
    {
     "name": "stdout",
     "output_type": "stream",
     "text": [
      "chatbot:\n",
      " \n",
      "price of egg\n",
      "free load for Rs.400 per egg\n",
      "\n",
      "These are the locations for your products\n",
      "egg is in shelf 3\n",
      "\n"
     ]
    },
    {
     "name": "stdin",
     "output_type": "stream",
     "text": [
      "\n",
      "You:  what do you have\n"
     ]
    },
    {
     "name": "stdout",
     "output_type": "stream",
     "text": [
      "Chatbot: Sorry, I didn't understand that. Please ask about a specific item.\n"
     ]
    },
    {
     "name": "stdin",
     "output_type": "stream",
     "text": [
      "\n",
      "You:  sell\n"
     ]
    },
    {
     "name": "stdout",
     "output_type": "stream",
     "text": [
      "Chatbot: Sorry, I still don't understand. Please ask about a item available in the store.you can find available goods by typing \"view items\".If problem proceed please contact our employee \n"
     ]
    },
    {
     "name": "stdin",
     "output_type": "stream",
     "text": [
      "\n",
      "You:  view items\n"
     ]
    },
    {
     "name": "stdout",
     "output_type": "stream",
     "text": [
      "chatbot:\n",
      " \n",
      "Available products:\n",
      "milk in shelf 1\n",
      "\n",
      "bread in shelf 2\n",
      "\n",
      "egg in shelf 3\n",
      "\n",
      "cheese in shelf 4\n",
      "\n",
      "apple in shelf 5\n",
      "\n",
      "banana in shelf 6\n",
      "\n",
      "\n"
     ]
    },
    {
     "name": "stdin",
     "output_type": "stream",
     "text": [
      "\n",
      "You:  prize of milk\n"
     ]
    },
    {
     "name": "stdout",
     "output_type": "stream",
     "text": [
      "chatbot:\n",
      " \n",
      "price of milk\n",
      "kotmale for Rs.200 per 400ml\n",
      "highland for Rs.400 per 400ml\n",
      "\n",
      "These are the locations for your products\n",
      "milk is in shelf 1\n",
      "\n"
     ]
    },
    {
     "name": "stdin",
     "output_type": "stream",
     "text": [
      "\n",
      "You:  thank you\n"
     ]
    },
    {
     "name": "stdout",
     "output_type": "stream",
     "text": [
      "Chatbot: Sorry, I didn't understand that. Please ask about a specific item.\n"
     ]
    },
    {
     "name": "stdin",
     "output_type": "stream",
     "text": [
      "\n",
      "You:  bye\n"
     ]
    },
    {
     "name": "stdout",
     "output_type": "stream",
     "text": [
      "chatbot:\n",
      " Goodbye!!\n"
     ]
    }
   ],
   "source": [
    "chatbot()"
   ]
  },
  {
   "cell_type": "code",
   "execution_count": null,
   "id": "7207b561-bec6-4cfe-b2f0-0a40d80898a3",
   "metadata": {},
   "outputs": [],
   "source": []
  }
 ],
 "metadata": {
  "kernelspec": {
   "display_name": "Python 3 (ipykernel)",
   "language": "python",
   "name": "python3"
  },
  "language_info": {
   "codemirror_mode": {
    "name": "ipython",
    "version": 3
   },
   "file_extension": ".py",
   "mimetype": "text/x-python",
   "name": "python",
   "nbconvert_exporter": "python",
   "pygments_lexer": "ipython3",
   "version": "3.12.7"
  }
 },
 "nbformat": 4,
 "nbformat_minor": 5
}
